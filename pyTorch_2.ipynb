{
  "nbformat": 4,
  "nbformat_minor": 0,
  "metadata": {
    "colab": {
      "provenance": [],
      "authorship_tag": "ABX9TyOgtc1v/Gl+uI6HreAdDyxs",
      "include_colab_link": true
    },
    "kernelspec": {
      "name": "python3",
      "display_name": "Python 3"
    },
    "language_info": {
      "name": "python"
    }
  },
  "cells": [
    {
      "cell_type": "markdown",
      "metadata": {
        "id": "view-in-github",
        "colab_type": "text"
      },
      "source": [
        "<a href=\"https://colab.research.google.com/github/Rajendar98/pyTorch_Learning/blob/main/pyTorch_2.ipynb\" target=\"_parent\"><img src=\"https://colab.research.google.com/assets/colab-badge.svg\" alt=\"Open In Colab\"/></a>"
      ]
    },
    {
      "cell_type": "code",
      "execution_count": 3,
      "metadata": {
        "id": "fv_SsM_QztUx"
      },
      "outputs": [],
      "source": [
        "import torch"
      ]
    },
    {
      "cell_type": "code",
      "source": [
        "# Tensor manipulating\n",
        "# Addition\n",
        "# Subtraction\n",
        "# Multiplication\n",
        "# Matrix Multiplication"
      ],
      "metadata": {
        "id": "adlX1cLazyHa"
      },
      "execution_count": 4,
      "outputs": []
    },
    {
      "cell_type": "code",
      "source": [
        "a=torch.tensor([1,2,3])\n",
        "print(a)\n",
        "print( a + 10 )\n",
        "print(torch.add(a,10))"
      ],
      "metadata": {
        "colab": {
          "base_uri": "https://localhost:8080/"
        },
        "id": "4m9iOAJ90CNQ",
        "outputId": "bb5b1836-aba4-4516-eaf5-d1fb91407998"
      },
      "execution_count": 5,
      "outputs": [
        {
          "output_type": "stream",
          "name": "stdout",
          "text": [
            "tensor([1, 2, 3])\n",
            "tensor([11, 12, 13])\n",
            "tensor([11, 12, 13])\n"
          ]
        }
      ]
    },
    {
      "cell_type": "code",
      "source": [
        "print( a * 10)\n",
        "print(torch.mul(a,10))"
      ],
      "metadata": {
        "colab": {
          "base_uri": "https://localhost:8080/"
        },
        "id": "nKwX7HZG0LHJ",
        "outputId": "484dd111-2384-4524-f4af-ccac4f0e9d39"
      },
      "execution_count": 6,
      "outputs": [
        {
          "output_type": "stream",
          "name": "stdout",
          "text": [
            "tensor([10, 20, 30])\n",
            "tensor([10, 20, 30])\n"
          ]
        }
      ]
    },
    {
      "cell_type": "code",
      "source": [
        "print( a - 10 )\n",
        "print(torch.sub(a,10))"
      ],
      "metadata": {
        "colab": {
          "base_uri": "https://localhost:8080/"
        },
        "id": "XfOrUexr0SmA",
        "outputId": "bfd7ad07-cb47-46d4-8eb7-80985c7e772b"
      },
      "execution_count": 7,
      "outputs": [
        {
          "output_type": "stream",
          "name": "stdout",
          "text": [
            "tensor([-9, -8, -7])\n",
            "tensor([-9, -8, -7])\n"
          ]
        }
      ]
    },
    {
      "cell_type": "code",
      "source": [
        "b=torch.tensor([4,5,6])\n",
        "print(b)"
      ],
      "metadata": {
        "colab": {
          "base_uri": "https://localhost:8080/"
        },
        "id": "q51BzP5Y0V7f",
        "outputId": "751c818a-8c01-4acf-cc37-c7b8bea2b9d1"
      },
      "execution_count": 8,
      "outputs": [
        {
          "output_type": "stream",
          "name": "stdout",
          "text": [
            "tensor([4, 5, 6])\n"
          ]
        }
      ]
    },
    {
      "cell_type": "code",
      "source": [
        "matrixmul=torch.matmul(a,b) # use matmul or @ give same output\n",
        "print( a @ b )\n",
        "print(a,\"*\",b)\n",
        "print(matrixmul)"
      ],
      "metadata": {
        "colab": {
          "base_uri": "https://localhost:8080/"
        },
        "id": "TGmkhCId0dJl",
        "outputId": "e35683da-3fa9-423f-a6e9-2f16bc85ef79"
      },
      "execution_count": 9,
      "outputs": [
        {
          "output_type": "stream",
          "name": "stdout",
          "text": [
            "tensor(32)\n",
            "tensor([1, 2, 3]) * tensor([4, 5, 6])\n",
            "tensor(32)\n"
          ]
        }
      ]
    },
    {
      "cell_type": "code",
      "source": [
        "# The 2 main rules  that performing matrix multiplication need to staisfy\n",
        "# (2,3) @ (2,3) --> won't work\n",
        "# (2,3) @ (3,2) -->(2,3) will work because the inner dimensions are equal\n",
        "# (3,2) @ (2,3) -->(3,3) will work"
      ],
      "metadata": {
        "id": "lUsULicu1X7E"
      },
      "execution_count": 10,
      "outputs": []
    },
    {
      "cell_type": "code",
      "source": [
        "a=torch.tensor([[1,2],[3,4],[5,6]])\n",
        "b=torch.tensor([[1,2,3],[4,5,6]])\n",
        "r=torch.matmul(a,b)\n",
        "print(r)"
      ],
      "metadata": {
        "colab": {
          "base_uri": "https://localhost:8080/"
        },
        "id": "lH2iBQD44sc3",
        "outputId": "ea8975b0-cec8-429a-e05f-b0cdf437aa76"
      },
      "execution_count": 11,
      "outputs": [
        {
          "output_type": "stream",
          "name": "stdout",
          "text": [
            "tensor([[ 9, 12, 15],\n",
            "        [19, 26, 33],\n",
            "        [29, 40, 51]])\n"
          ]
        }
      ]
    },
    {
      "cell_type": "code",
      "source": [
        "# The transpose matrix use (.T)"
      ],
      "metadata": {
        "id": "w19KhIxs4_oy"
      },
      "execution_count": 12,
      "outputs": []
    },
    {
      "cell_type": "code",
      "source": [
        "print(\"Transpose matrix\\n\",r.T)"
      ],
      "metadata": {
        "colab": {
          "base_uri": "https://localhost:8080/"
        },
        "id": "ibyuEUdL6dhz",
        "outputId": "68d76098-797e-456a-ef54-91989601bb04"
      },
      "execution_count": 13,
      "outputs": [
        {
          "output_type": "stream",
          "name": "stdout",
          "text": [
            "Transpose matrix\n",
            " tensor([[ 9, 19, 29],\n",
            "        [12, 26, 40],\n",
            "        [15, 33, 51]])\n"
          ]
        }
      ]
    },
    {
      "cell_type": "code",
      "source": [
        "# Finding the min,max,mean,sum etc......."
      ],
      "metadata": {
        "id": "YFpdLN-s6jWO"
      },
      "execution_count": 14,
      "outputs": []
    },
    {
      "cell_type": "code",
      "source": [
        "x=torch.arange(1,100,10)\n",
        "x"
      ],
      "metadata": {
        "colab": {
          "base_uri": "https://localhost:8080/"
        },
        "id": "5im4KeD3B-YY",
        "outputId": "6322e3de-2986-4f7b-8a0d-4c3b7c211d91"
      },
      "execution_count": 15,
      "outputs": [
        {
          "output_type": "execute_result",
          "data": {
            "text/plain": [
              "tensor([ 1, 11, 21, 31, 41, 51, 61, 71, 81, 91])"
            ]
          },
          "metadata": {},
          "execution_count": 15
        }
      ]
    },
    {
      "cell_type": "code",
      "source": [
        "print(torch.max(x))\n",
        "print(torch.min(x))"
      ],
      "metadata": {
        "colab": {
          "base_uri": "https://localhost:8080/"
        },
        "id": "DWMfT7wMCC7S",
        "outputId": "abfbfebb-4ebb-48be-d6af-b923214a87f7"
      },
      "execution_count": 16,
      "outputs": [
        {
          "output_type": "stream",
          "name": "stdout",
          "text": [
            "tensor(91)\n",
            "tensor(1)\n"
          ]
        }
      ]
    },
    {
      "cell_type": "code",
      "source": [
        "torch.sum(x)"
      ],
      "metadata": {
        "colab": {
          "base_uri": "https://localhost:8080/"
        },
        "id": "_gEKB1S1CU2P",
        "outputId": "8da222ea-65c5-40f5-d8c0-dbbf7724659d"
      },
      "execution_count": 17,
      "outputs": [
        {
          "output_type": "execute_result",
          "data": {
            "text/plain": [
              "tensor(460)"
            ]
          },
          "metadata": {},
          "execution_count": 17
        }
      ]
    },
    {
      "cell_type": "code",
      "source": [
        "# NOTE;-\n",
        "# The torch.mean() function requires a tensor of float32 datatype to work\n",
        "print(torch.mean(x.type(torch.float32)))\n",
        "print(x.type(torch.float32).mean())"
      ],
      "metadata": {
        "colab": {
          "base_uri": "https://localhost:8080/"
        },
        "id": "u-z4v2VPCZEB",
        "outputId": "261ca4a5-ef55-478f-ccc6-0378a8753f00"
      },
      "execution_count": 18,
      "outputs": [
        {
          "output_type": "stream",
          "name": "stdout",
          "text": [
            "tensor(46.)\n",
            "tensor(46.)\n"
          ]
        }
      ]
    },
    {
      "cell_type": "code",
      "source": [
        "# find the minimum and maximum element position in tensor\n",
        "print(x.argmin())\n",
        "print(x.argmax())"
      ],
      "metadata": {
        "colab": {
          "base_uri": "https://localhost:8080/"
        },
        "id": "-l4ToPDACcyS",
        "outputId": "0e80cdd0-f31b-47b2-9d2b-0269b6978379"
      },
      "execution_count": 19,
      "outputs": [
        {
          "output_type": "stream",
          "name": "stdout",
          "text": [
            "tensor(0)\n",
            "tensor(9)\n"
          ]
        }
      ]
    },
    {
      "cell_type": "code",
      "source": [
        "# Reshaping, Stacking ,Squeezing ,UnSqueezing tensors and permute"
      ],
      "metadata": {
        "id": "vTIsmkfrEaGu"
      },
      "execution_count": 20,
      "outputs": []
    },
    {
      "cell_type": "code",
      "source": [
        "x=torch.arange(1.,10.)\n",
        "x"
      ],
      "metadata": {
        "colab": {
          "base_uri": "https://localhost:8080/"
        },
        "id": "1DNa_KvxHJ0h",
        "outputId": "c0552d88-6d1f-4312-f2bd-c0b602f25d54"
      },
      "execution_count": 25,
      "outputs": [
        {
          "output_type": "execute_result",
          "data": {
            "text/plain": [
              "tensor([1., 2., 3., 4., 5., 6., 7., 8., 9.])"
            ]
          },
          "metadata": {},
          "execution_count": 25
        }
      ]
    },
    {
      "cell_type": "code",
      "source": [
        "print(x.reshape(3,3))\n",
        "print(x.shape)"
      ],
      "metadata": {
        "colab": {
          "base_uri": "https://localhost:8080/"
        },
        "id": "pf_I-jO8wTxs",
        "outputId": "7b1a5fbf-4fbc-4ff2-9636-afcd7c772eb4"
      },
      "execution_count": 31,
      "outputs": [
        {
          "output_type": "stream",
          "name": "stdout",
          "text": [
            "tensor([[1., 2., 3.],\n",
            "        [4., 5., 6.],\n",
            "        [7., 8., 9.]])\n",
            "torch.Size([9])\n"
          ]
        }
      ]
    },
    {
      "cell_type": "code",
      "source": [
        "print(x.view(1,9))\n",
        "print(x.view(3,3))\n",
        "print(x.shape)"
      ],
      "metadata": {
        "colab": {
          "base_uri": "https://localhost:8080/"
        },
        "id": "BzOb_Xt5w2ah",
        "outputId": "61084e01-730e-4a73-ed37-cd9c634d5411"
      },
      "execution_count": 33,
      "outputs": [
        {
          "output_type": "stream",
          "name": "stdout",
          "text": [
            "tensor([[1., 2., 3., 4., 5., 6., 7., 8., 9.]])\n",
            "tensor([[1., 2., 3.],\n",
            "        [4., 5., 6.],\n",
            "        [7., 8., 9.]])\n",
            "torch.Size([9])\n"
          ]
        }
      ]
    },
    {
      "cell_type": "code",
      "source": [
        "z=x.view(1,9)\n",
        "print(z[:,0])"
      ],
      "metadata": {
        "colab": {
          "base_uri": "https://localhost:8080/"
        },
        "id": "8Rl49cZuxUOp",
        "outputId": "2a35e316-2e8e-4fdd-acf8-76912e4212b8"
      },
      "execution_count": 38,
      "outputs": [
        {
          "output_type": "stream",
          "name": "stdout",
          "text": [
            "tensor([1.])\n"
          ]
        }
      ]
    },
    {
      "cell_type": "code",
      "source": [
        "print(torch.stack([x,x,x,x],dim=0))\n",
        "print()\n",
        "print(torch.stack([x,x,x,x],dim=1))"
      ],
      "metadata": {
        "colab": {
          "base_uri": "https://localhost:8080/"
        },
        "id": "_ZN8FqMxxlBP",
        "outputId": "218f5d2e-49a4-4145-9812-de6c8a7c106a"
      },
      "execution_count": 41,
      "outputs": [
        {
          "output_type": "stream",
          "name": "stdout",
          "text": [
            "tensor([[1., 2., 3., 4., 5., 6., 7., 8., 9.],\n",
            "        [1., 2., 3., 4., 5., 6., 7., 8., 9.],\n",
            "        [1., 2., 3., 4., 5., 6., 7., 8., 9.],\n",
            "        [1., 2., 3., 4., 5., 6., 7., 8., 9.]])\n",
            "\n",
            "tensor([[1., 1., 1., 1.],\n",
            "        [2., 2., 2., 2.],\n",
            "        [3., 3., 3., 3.],\n",
            "        [4., 4., 4., 4.],\n",
            "        [5., 5., 5., 5.],\n",
            "        [6., 6., 6., 6.],\n",
            "        [7., 7., 7., 7.],\n",
            "        [8., 8., 8., 8.],\n",
            "        [9., 9., 9., 9.]])\n"
          ]
        }
      ]
    },
    {
      "cell_type": "code",
      "source": [
        "x_reshape=x.reshape(1,9)\n",
        "print(x_reshape)"
      ],
      "metadata": {
        "colab": {
          "base_uri": "https://localhost:8080/"
        },
        "id": "q7bj6kI0yFnf",
        "outputId": "2e751aff-f6e1-482f-c3dd-a7d2b5626c27"
      },
      "execution_count": 45,
      "outputs": [
        {
          "output_type": "stream",
          "name": "stdout",
          "text": [
            "tensor([[1., 2., 3., 4., 5., 6., 7., 8., 9.]])\n"
          ]
        }
      ]
    },
    {
      "cell_type": "code",
      "source": [
        "t=x_reshape.squeeze()\n",
        "print(t)\n",
        "print(x_reshape.squeeze().shape)"
      ],
      "metadata": {
        "colab": {
          "base_uri": "https://localhost:8080/"
        },
        "id": "rRcPxHf3y1eq",
        "outputId": "26210410-32b0-46ff-ac74-ce5989f21b07"
      },
      "execution_count": 48,
      "outputs": [
        {
          "output_type": "stream",
          "name": "stdout",
          "text": [
            "tensor([1., 2., 3., 4., 5., 6., 7., 8., 9.])\n",
            "torch.Size([9])\n"
          ]
        }
      ]
    },
    {
      "cell_type": "code",
      "source": [
        "x_reshape"
      ],
      "metadata": {
        "colab": {
          "base_uri": "https://localhost:8080/"
        },
        "id": "9mfL2gCAzND1",
        "outputId": "0ceaaaa6-539b-4cf1-d54d-81f699d44828"
      },
      "execution_count": 47,
      "outputs": [
        {
          "output_type": "execute_result",
          "data": {
            "text/plain": [
              "tensor([[1., 2., 3., 4., 5., 6., 7., 8., 9.]])"
            ]
          },
          "metadata": {},
          "execution_count": 47
        }
      ]
    },
    {
      "cell_type": "code",
      "source": [
        "print(x_reshape)\n",
        "print(x_reshape.shape)\n",
        "print(x_reshape.unsqueeze(dim=0))\n",
        "print(x_reshape.unsqueeze(dim=0).shape)"
      ],
      "metadata": {
        "colab": {
          "base_uri": "https://localhost:8080/"
        },
        "id": "dxnmIWa5zQtC",
        "outputId": "d600a1c9-f9f3-451e-cc2a-61240dcb65f4"
      },
      "execution_count": 56,
      "outputs": [
        {
          "output_type": "stream",
          "name": "stdout",
          "text": [
            "tensor([[1., 2., 3., 4., 5., 6., 7., 8., 9.]]) \n",
            "\n",
            "torch.Size([1, 9])\n",
            "tensor([[[1., 2., 3., 4., 5., 6., 7., 8., 9.]]])\n",
            "torch.Size([1, 1, 9])\n"
          ]
        }
      ]
    },
    {
      "cell_type": "code",
      "source": [
        "a=torch.rand(224,224,3)\n",
        "a_permute=a.permute(2,0,1)\n",
        "print(a.shape)\n",
        "print(a_permute.shape)"
      ],
      "metadata": {
        "colab": {
          "base_uri": "https://localhost:8080/"
        },
        "id": "fWNmnHQSzopM",
        "outputId": "68d31286-c8ec-4ce0-b0fb-6787c780bf86"
      },
      "execution_count": 58,
      "outputs": [
        {
          "output_type": "stream",
          "name": "stdout",
          "text": [
            "torch.Size([224, 224, 3])\n",
            "torch.Size([3, 224, 224])\n"
          ]
        }
      ]
    },
    {
      "cell_type": "code",
      "source": [
        "#Indexing with pytorch\n",
        "b=torch.arange(1,10).reshape(1,3,3)\n",
        "print(b,end=\"-->\")\n",
        "print(b.shape)\n",
        "print(b[0])\n",
        "print(b[0][2])\n",
        "print(b[0][2][2])\n",
        "print(b[0,0,:])"
      ],
      "metadata": {
        "colab": {
          "base_uri": "https://localhost:8080/"
        },
        "id": "KDWwmgyi0szu",
        "outputId": "7a57e3da-1464-4d11-c268-b464b5c302b7"
      },
      "execution_count": 80,
      "outputs": [
        {
          "output_type": "stream",
          "name": "stdout",
          "text": [
            "tensor([[[1, 2, 3],\n",
            "         [4, 5, 6],\n",
            "         [7, 8, 9]]])-->torch.Size([1, 3, 3])\n",
            "tensor([[1, 2, 3],\n",
            "        [4, 5, 6],\n",
            "        [7, 8, 9]])\n",
            "tensor([7, 8, 9])\n",
            "tensor(9)\n",
            "tensor([1, 2, 3])\n"
          ]
        }
      ]
    },
    {
      "cell_type": "code",
      "source": [
        "# Pytorch tensors and NumPy"
      ],
      "metadata": {
        "id": "o_QZ8BoW2AZS"
      },
      "execution_count": null,
      "outputs": []
    },
    {
      "cell_type": "code",
      "source": [
        "import numpy as np"
      ],
      "metadata": {
        "id": "zbmiXuaB4NgW"
      },
      "execution_count": 81,
      "outputs": []
    },
    {
      "cell_type": "code",
      "source": [
        "array=np.arange(1.0,8.0)\n",
        "tens=torch.from_numpy(array)\n",
        "print(tens.type(dtype=torch.float32))\n",
        "print(array)\n",
        "print(tens)"
      ],
      "metadata": {
        "colab": {
          "base_uri": "https://localhost:8080/"
        },
        "id": "iAepdKOK5SN3",
        "outputId": "9fd0f4cb-053a-48d8-d3c7-68149e66ff07"
      },
      "execution_count": 85,
      "outputs": [
        {
          "output_type": "stream",
          "name": "stdout",
          "text": [
            "tensor([1., 2., 3., 4., 5., 6., 7.])\n",
            "[1. 2. 3. 4. 5. 6. 7.]\n",
            "tensor([1., 2., 3., 4., 5., 6., 7.], dtype=torch.float64)\n"
          ]
        }
      ]
    },
    {
      "cell_type": "code",
      "source": [
        "array=array+1\n",
        "print(array)\n",
        "print(tens)"
      ],
      "metadata": {
        "colab": {
          "base_uri": "https://localhost:8080/"
        },
        "id": "KUaxERZv5ijU",
        "outputId": "9827cc36-b6b3-41a0-efba-161ec070dc17"
      },
      "execution_count": 86,
      "outputs": [
        {
          "output_type": "stream",
          "name": "stdout",
          "text": [
            "[2. 3. 4. 5. 6. 7. 8.]\n",
            "tensor([1., 2., 3., 4., 5., 6., 7.], dtype=torch.float64)\n"
          ]
        }
      ]
    },
    {
      "cell_type": "code",
      "source": [
        "f=torch.ones(7)\n",
        "np_tensor=f.numpy()\n",
        "print(f)\n",
        "np_tensor"
      ],
      "metadata": {
        "colab": {
          "base_uri": "https://localhost:8080/"
        },
        "id": "MLRK9PTI56xW",
        "outputId": "93974ae6-d96a-4cd0-b9f4-a98a21a8f620"
      },
      "execution_count": 90,
      "outputs": [
        {
          "output_type": "stream",
          "name": "stdout",
          "text": [
            "tensor([1., 1., 1., 1., 1., 1., 1.])\n"
          ]
        },
        {
          "output_type": "execute_result",
          "data": {
            "text/plain": [
              "array([1., 1., 1., 1., 1., 1., 1.], dtype=float32)"
            ]
          },
          "metadata": {},
          "execution_count": 90
        }
      ]
    },
    {
      "cell_type": "code",
      "source": [
        "f=f+1\n",
        "print(f)\n",
        "print(np_tensor)"
      ],
      "metadata": {
        "colab": {
          "base_uri": "https://localhost:8080/"
        },
        "id": "t74IN1rf6ADq",
        "outputId": "39564721-925a-4355-a2e2-2b6f93cb1ea4"
      },
      "execution_count": 91,
      "outputs": [
        {
          "output_type": "stream",
          "name": "stdout",
          "text": [
            "tensor([2., 2., 2., 2., 2., 2., 2.])\n",
            "[1. 1. 1. 1. 1. 1. 1.]\n"
          ]
        }
      ]
    },
    {
      "cell_type": "code",
      "source": [
        "rand_A=torch.rand(1,9).reshape(1,3,3)\n",
        "rand_B=torch.rand(1,9).reshape(1,3,3)\n",
        "print(rand_A)\n",
        "print(rand_B)\n",
        "print(rand_A==rand_B)"
      ],
      "metadata": {
        "colab": {
          "base_uri": "https://localhost:8080/"
        },
        "id": "xgK30GlE6g2d",
        "outputId": "ddd11a87-35ec-49ff-a548-0e6680422e48"
      },
      "execution_count": 93,
      "outputs": [
        {
          "output_type": "stream",
          "name": "stdout",
          "text": [
            "tensor([[[0.1185, 0.2991, 0.6701],\n",
            "         [0.4818, 0.9821, 0.6725],\n",
            "         [0.2644, 0.2206, 0.0787]]])\n",
            "tensor([[[0.2021, 0.9735, 0.2371],\n",
            "         [0.6365, 0.5808, 0.1095],\n",
            "         [0.5860, 0.0633, 0.4114]]])\n",
            "tensor([[[False, False, False],\n",
            "         [False, False, False],\n",
            "         [False, False, False]]])\n"
          ]
        }
      ]
    },
    {
      "cell_type": "code",
      "source": [
        "RANDOM_SEED = 6  #random seed is reproducibility\n",
        "torch.manual_seed(RANDOM_SEED)\n",
        "rand_C=torch.rand(1,9).reshape(1,3,3)\n",
        "torch.manual_seed(RANDOM_SEED)\n",
        "rand_D=torch.rand(1,9).reshape(1,3,3)\n",
        "print(rand_C)\n",
        "print(rand_D)\n",
        "print(rand_C==rand_D)"
      ],
      "metadata": {
        "colab": {
          "base_uri": "https://localhost:8080/"
        },
        "id": "KndEutL29Vbq",
        "outputId": "e23c6f8a-0d16-4f81-d0c1-7f0d08d2f0b9"
      },
      "execution_count": 100,
      "outputs": [
        {
          "output_type": "stream",
          "name": "stdout",
          "text": [
            "tensor([[[0.5722, 0.5539, 0.9868],\n",
            "         [0.6080, 0.2347, 0.4492],\n",
            "         [0.6743, 0.7480, 0.5601]]])\n",
            "tensor([[[0.5722, 0.5539, 0.9868],\n",
            "         [0.6080, 0.2347, 0.4492],\n",
            "         [0.6743, 0.7480, 0.5601]]])\n",
            "tensor([[[True, True, True],\n",
            "         [True, True, True],\n",
            "         [True, True, True]]])\n"
          ]
        }
      ]
    },
    {
      "cell_type": "code",
      "source": [
        "torch.cuda.is_available()"
      ],
      "metadata": {
        "colab": {
          "base_uri": "https://localhost:8080/"
        },
        "id": "FROwWREK9iHp",
        "outputId": "b78afeec-bef9-4fa9-cb5b-11160e333e4e"
      },
      "execution_count": 107,
      "outputs": [
        {
          "output_type": "execute_result",
          "data": {
            "text/plain": [
              "False"
            ]
          },
          "metadata": {},
          "execution_count": 107
        }
      ]
    },
    {
      "cell_type": "code",
      "source": [
        "x=torch.tensor([1,2,3]) # Create a tensor the default device is  CPU\n",
        "print(x.device)"
      ],
      "metadata": {
        "colab": {
          "base_uri": "https://localhost:8080/"
        },
        "id": "3UnOCkIJ-6x6",
        "outputId": "10a04db8-f699-4001-f9c4-ca60aac6609e"
      },
      "execution_count": 108,
      "outputs": [
        {
          "output_type": "stream",
          "name": "stdout",
          "text": [
            "cpu\n"
          ]
        }
      ]
    },
    {
      "cell_type": "code",
      "source": [
        "# Top three error in deep learning\n",
        "# 1--> Shape errors\n",
        "# 2--> Data type Issues\n",
        "# 3--> Device Issues"
      ],
      "metadata": {
        "id": "84aYn1mYDAhh"
      },
      "execution_count": null,
      "outputs": []
    },
    {
      "cell_type": "code",
      "source": [
        "torch.cuda.is_available()"
      ],
      "metadata": {
        "colab": {
          "base_uri": "https://localhost:8080/"
        },
        "id": "qLbTd6PfD6hu",
        "outputId": "17e79205-eaf1-417e-f04e-585fd5e318a0"
      },
      "execution_count": 114,
      "outputs": [
        {
          "output_type": "execute_result",
          "data": {
            "text/plain": [
              "False"
            ]
          },
          "metadata": {},
          "execution_count": 114
        }
      ]
    },
    {
      "cell_type": "code",
      "source": [],
      "metadata": {
        "id": "sjYMZGfNEP3Q"
      },
      "execution_count": 110,
      "outputs": []
    },
    {
      "cell_type": "code",
      "source": [],
      "metadata": {
        "id": "452lHFnMEjzW"
      },
      "execution_count": null,
      "outputs": []
    }
  ]
}