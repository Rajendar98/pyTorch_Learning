{
  "nbformat": 4,
  "nbformat_minor": 0,
  "metadata": {
    "colab": {
      "provenance": [],
      "authorship_tag": "ABX9TyPi6wRQMuK9EG7uV5vcHvne"
    },
    "kernelspec": {
      "name": "python3",
      "display_name": "Python 3"
    },
    "language_info": {
      "name": "python"
    }
  },
  "cells": [
    {
      "cell_type": "code",
      "execution_count": null,
      "metadata": {
        "id": "1hDiLm6UGe88"
      },
      "outputs": [],
      "source": [
        "import torch"
      ]
    },
    {
      "cell_type": "code",
      "source": [
        "#creating a tensors\n",
        "temp=torch.tensor(6)\n",
        "temp"
      ],
      "metadata": {
        "colab": {
          "base_uri": "https://localhost:8080/"
        },
        "id": "1T05c1O7Iatr",
        "outputId": "154a5311-0bae-4804-b42f-b049503c0d88"
      },
      "execution_count": null,
      "outputs": [
        {
          "output_type": "execute_result",
          "data": {
            "text/plain": [
              "tensor(6)"
            ]
          },
          "metadata": {},
          "execution_count": 2
        }
      ]
    },
    {
      "cell_type": "code",
      "source": [
        "temp.ndim #ndim-->Dimension"
      ],
      "metadata": {
        "colab": {
          "base_uri": "https://localhost:8080/"
        },
        "id": "WsqA6-DaI5D5",
        "outputId": "533161c3-6258-4e7f-a17a-90c6ce230114"
      },
      "execution_count": null,
      "outputs": [
        {
          "output_type": "execute_result",
          "data": {
            "text/plain": [
              "0"
            ]
          },
          "metadata": {},
          "execution_count": 3
        }
      ]
    },
    {
      "cell_type": "code",
      "source": [
        "temp.item()"
      ],
      "metadata": {
        "colab": {
          "base_uri": "https://localhost:8080/"
        },
        "id": "_aUj65-TI-yc",
        "outputId": "899bc9b2-f608-4ae9-83d0-2af69b158f5b"
      },
      "execution_count": null,
      "outputs": [
        {
          "output_type": "execute_result",
          "data": {
            "text/plain": [
              "6"
            ]
          },
          "metadata": {},
          "execution_count": 4
        }
      ]
    },
    {
      "cell_type": "code",
      "source": [
        "vect=torch.tensor([6,6]) #Vector creation"
      ],
      "metadata": {
        "id": "90XmhrC5JCYP"
      },
      "execution_count": null,
      "outputs": []
    },
    {
      "cell_type": "code",
      "source": [
        "vect.ndim"
      ],
      "metadata": {
        "colab": {
          "base_uri": "https://localhost:8080/"
        },
        "id": "P4fzQCViJdTQ",
        "outputId": "02441ca9-8418-4df3-d934-886ff700b010"
      },
      "execution_count": null,
      "outputs": [
        {
          "output_type": "execute_result",
          "data": {
            "text/plain": [
              "1"
            ]
          },
          "metadata": {},
          "execution_count": 6
        }
      ]
    },
    {
      "cell_type": "code",
      "source": [
        "vect.shape"
      ],
      "metadata": {
        "colab": {
          "base_uri": "https://localhost:8080/"
        },
        "id": "vZReLog8Jifu",
        "outputId": "15b3677a-e8b6-452b-8f7d-fccd958062da"
      },
      "execution_count": null,
      "outputs": [
        {
          "output_type": "execute_result",
          "data": {
            "text/plain": [
              "torch.Size([2])"
            ]
          },
          "metadata": {},
          "execution_count": 7
        }
      ]
    },
    {
      "cell_type": "code",
      "source": [
        "vect.size()"
      ],
      "metadata": {
        "colab": {
          "base_uri": "https://localhost:8080/"
        },
        "id": "fbwzrKgyJ1ul",
        "outputId": "3480101b-0db1-4a10-af47-6c6dba95515e"
      },
      "execution_count": null,
      "outputs": [
        {
          "output_type": "execute_result",
          "data": {
            "text/plain": [
              "torch.Size([2])"
            ]
          },
          "metadata": {},
          "execution_count": 8
        }
      ]
    },
    {
      "cell_type": "code",
      "source": [
        "#Matrix Creation\n",
        "mat=torch.tensor([[1,2],[3,4],[4,6]])\n",
        "mat"
      ],
      "metadata": {
        "colab": {
          "base_uri": "https://localhost:8080/"
        },
        "id": "30NhuJePJ5UF",
        "outputId": "167f1bb4-2ad0-4493-dbbc-8d288c744051"
      },
      "execution_count": null,
      "outputs": [
        {
          "output_type": "execute_result",
          "data": {
            "text/plain": [
              "tensor([[1, 2],\n",
              "        [3, 4],\n",
              "        [4, 6]])"
            ]
          },
          "metadata": {},
          "execution_count": 9
        }
      ]
    },
    {
      "cell_type": "code",
      "source": [
        "print(mat[0],mat[1])"
      ],
      "metadata": {
        "colab": {
          "base_uri": "https://localhost:8080/"
        },
        "id": "o7eLsR0UKIdu",
        "outputId": "c79fccd8-6e85-45e2-e3c0-552e56965042"
      },
      "execution_count": null,
      "outputs": [
        {
          "output_type": "stream",
          "name": "stdout",
          "text": [
            "tensor([1, 2]) tensor([3, 4])\n"
          ]
        }
      ]
    },
    {
      "cell_type": "code",
      "source": [
        "print(mat.shape)\n",
        "mat.size()"
      ],
      "metadata": {
        "colab": {
          "base_uri": "https://localhost:8080/"
        },
        "id": "AE986-hmKPFW",
        "outputId": "65db20a9-b30a-43cc-c0a8-f6018141aeea"
      },
      "execution_count": null,
      "outputs": [
        {
          "output_type": "stream",
          "name": "stdout",
          "text": [
            "torch.Size([3, 2])\n"
          ]
        },
        {
          "output_type": "execute_result",
          "data": {
            "text/plain": [
              "torch.Size([3, 2])"
            ]
          },
          "metadata": {},
          "execution_count": 11
        }
      ]
    },
    {
      "cell_type": "code",
      "source": [
        "ten=torch.tensor([[[1,2,3],[4,5,6],[7,8,9]]])\n",
        "print(ten)\n",
        "print(ten.shape)\n",
        "print(ten[0])\n",
        "print(ten[0][1])\n",
        "print(ten[0][1][2])"
      ],
      "metadata": {
        "colab": {
          "base_uri": "https://localhost:8080/"
        },
        "id": "dDXLupUsKXWL",
        "outputId": "2c168dae-cd37-455a-e8b9-a3ee94009d71"
      },
      "execution_count": null,
      "outputs": [
        {
          "output_type": "stream",
          "name": "stdout",
          "text": [
            "tensor([[[1, 2, 3],\n",
            "         [4, 5, 6],\n",
            "         [7, 8, 9]]])\n",
            "torch.Size([1, 3, 3])\n",
            "tensor([[1, 2, 3],\n",
            "        [4, 5, 6],\n",
            "        [7, 8, 9]])\n",
            "tensor([4, 5, 6])\n",
            "tensor(6)\n"
          ]
        }
      ]
    },
    {
      "cell_type": "code",
      "source": [
        "### Random Tensors\n",
        "random_tensor=torch.rand(3,4)\n",
        "random_tensor"
      ],
      "metadata": {
        "colab": {
          "base_uri": "https://localhost:8080/"
        },
        "id": "VqxV-5GGK8Rp",
        "outputId": "e3a03bd1-9623-4e0c-d5b9-6e2e8cb11187"
      },
      "execution_count": null,
      "outputs": [
        {
          "output_type": "execute_result",
          "data": {
            "text/plain": [
              "tensor([[0.8659, 0.8136, 0.6999, 0.2242],\n",
              "        [0.5684, 0.6855, 0.0049, 0.2507],\n",
              "        [0.7168, 0.5423, 0.1218, 0.9518]])"
            ]
          },
          "metadata": {},
          "execution_count": 13
        }
      ]
    },
    {
      "cell_type": "code",
      "source": [
        "random_tensor.ndim"
      ],
      "metadata": {
        "colab": {
          "base_uri": "https://localhost:8080/"
        },
        "id": "wSYpw63YL1CP",
        "outputId": "dc4f3081-686f-4ba2-b506-a63d5fbce02f"
      },
      "execution_count": null,
      "outputs": [
        {
          "output_type": "execute_result",
          "data": {
            "text/plain": [
              "2"
            ]
          },
          "metadata": {},
          "execution_count": 14
        }
      ]
    },
    {
      "cell_type": "code",
      "source": [
        "random_image_size_tensor=torch.rand(size=(3,224,224)) #size=(1-> color channel(Red,green,Blue),\n",
        "print(random_image_size_tensor.shape)                 #      2-> height,\n",
        "print(random_image_size_tensor.ndim)                  #      3-> width)"
      ],
      "metadata": {
        "colab": {
          "base_uri": "https://localhost:8080/"
        },
        "id": "SZGJCM0NMj6D",
        "outputId": "95df2282-fa2e-45d7-b545-66187c6e4f37"
      },
      "execution_count": null,
      "outputs": [
        {
          "output_type": "stream",
          "name": "stdout",
          "text": [
            "torch.Size([3, 224, 224])\n",
            "3\n"
          ]
        }
      ]
    },
    {
      "cell_type": "code",
      "source": [
        "# Creating tensor of all Zeros and ones\n",
        "zeros=torch.zeros(3,4)\n",
        "print(zeros)\n",
        "ones=torch.ones(3,4)\n",
        "print()\n",
        "print(ones)\n",
        "print(zeros.dtype)"
      ],
      "metadata": {
        "colab": {
          "base_uri": "https://localhost:8080/"
        },
        "id": "7K-i4xMWOt2G",
        "outputId": "776514f8-131a-403a-8f48-b068e501e7fe"
      },
      "execution_count": null,
      "outputs": [
        {
          "output_type": "stream",
          "name": "stdout",
          "text": [
            "tensor([[0., 0., 0., 0.],\n",
            "        [0., 0., 0., 0.],\n",
            "        [0., 0., 0., 0.]])\n",
            "\n",
            "tensor([[1., 1., 1., 1.],\n",
            "        [1., 1., 1., 1.],\n",
            "        [1., 1., 1., 1.]])\n",
            "torch.float32\n"
          ]
        }
      ]
    },
    {
      "cell_type": "code",
      "source": [
        "# Creating a range of tensors and tensors-like\n",
        "x=torch.arange(0,21,2) #Start , end ,Step\n",
        "print(x)\n",
        "print(x.ndim)\n",
        "print(x.shape)"
      ],
      "metadata": {
        "colab": {
          "base_uri": "https://localhost:8080/"
        },
        "id": "6rVs84CPPu_a",
        "outputId": "bfd51ec0-68d2-4fb8-d709-647b824d11e4"
      },
      "execution_count": null,
      "outputs": [
        {
          "output_type": "stream",
          "name": "stdout",
          "text": [
            "tensor([ 0,  2,  4,  6,  8, 10, 12, 14, 16, 18, 20])\n",
            "1\n",
            "torch.Size([11])\n"
          ]
        }
      ]
    },
    {
      "cell_type": "code",
      "source": [
        "ten_ones=torch.ones_like(x)\n",
        "ten_zeros=torch.zeros_like(x)\n",
        "print(ten_zeros)\n",
        "print(ten_ones)\n",
        "print(ten_zeros.dtype)"
      ],
      "metadata": {
        "colab": {
          "base_uri": "https://localhost:8080/"
        },
        "id": "el6QomIUQq4T",
        "outputId": "9faa5716-6eb2-431d-aceb-6ddfea9eb375"
      },
      "execution_count": null,
      "outputs": [
        {
          "output_type": "stream",
          "name": "stdout",
          "text": [
            "tensor([0, 0, 0, 0, 0, 0, 0, 0, 0, 0, 0])\n",
            "tensor([1, 1, 1, 1, 1, 1, 1, 1, 1, 1, 1])\n",
            "torch.int64\n"
          ]
        }
      ]
    },
    {
      "cell_type": "code",
      "source": [
        "# Tensor Datatypes\n",
        "# Tensor attributes-->{(tensor.shape or tensor.size()),tensor.device,tensor.dtype}\n",
        "a=torch.tensor([1.2,2.3,1.0,2.6],\n",
        "               dtype=None,\n",
        "               device=None,\n",
        "               requires_grad=False)\n",
        "print(a.dtype)\n",
        "b=a.type(torch.float16) #Conversion flot32 --> float 16\n",
        "print(b.dtype)\n",
        "print(a*b)\n",
        "print(a.device)\n",
        "print(a.shape)"
      ],
      "metadata": {
        "colab": {
          "base_uri": "https://localhost:8080/"
        },
        "id": "vj55EDHCRqrV",
        "outputId": "55654c3b-428a-4ceb-891b-d20db56402e0"
      },
      "execution_count": null,
      "outputs": [
        {
          "output_type": "stream",
          "name": "stdout",
          "text": [
            "torch.float32\n",
            "torch.float16\n",
            "tensor([1.4402, 5.2918, 1.0000, 6.7590])\n",
            "cpu\n",
            "torch.Size([4])\n"
          ]
        }
      ]
    },
    {
      "cell_type": "code",
      "source": [],
      "metadata": {
        "id": "lzJkE-BZXKoe"
      },
      "execution_count": null,
      "outputs": []
    }
  ]
}