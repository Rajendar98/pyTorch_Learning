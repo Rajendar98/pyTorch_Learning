{
  "nbformat": 4,
  "nbformat_minor": 0,
  "metadata": {
    "colab": {
      "provenance": [],
      "authorship_tag": "ABX9TyORC83GjAGNRRXJy/9FBL/G",
      "include_colab_link": true
    },
    "kernelspec": {
      "name": "python3",
      "display_name": "Python 3"
    },
    "language_info": {
      "name": "python"
    }
  },
  "cells": [
    {
      "cell_type": "markdown",
      "metadata": {
        "id": "view-in-github",
        "colab_type": "text"
      },
      "source": [
        "<a href=\"https://colab.research.google.com/github/Rajendar98/pyTorch_Learning/blob/main/PyTorch_3.ipynb\" target=\"_parent\"><img src=\"https://colab.research.google.com/assets/colab-badge.svg\" alt=\"Open In Colab\"/></a>"
      ]
    },
    {
      "cell_type": "code",
      "execution_count": 126,
      "metadata": {
        "id": "HP0yUM6-BVgX"
      },
      "outputs": [],
      "source": [
        "# Pytorch WorkFlow\n",
        "# 1--> data(prepare and load)\n",
        "# 2--> Build model\n",
        "# 3--> fitting the model to data\n",
        "# 4--> making predicitions and evaluting a model\n",
        "# 5--> saving and loading a model\n",
        "# 6--> putting it all  together"
      ]
    },
    {
      "cell_type": "code",
      "source": [
        "import torch\n",
        "from torch import nn # nn contains of all pytorch building blocks for nueral network\n",
        "import matplotlib.pyplot as plt\n",
        "torch.__version__"
      ],
      "metadata": {
        "colab": {
          "base_uri": "https://localhost:8080/",
          "height": 36
        },
        "id": "5OVD7zVqCKMZ",
        "outputId": "54bf9a50-238b-469c-f518-a8fc2b819852"
      },
      "execution_count": 127,
      "outputs": [
        {
          "output_type": "execute_result",
          "data": {
            "text/plain": [
              "'2.1.0+cu121'"
            ],
            "application/vnd.google.colaboratory.intrinsic+json": {
              "type": "string"
            }
          },
          "metadata": {},
          "execution_count": 127
        }
      ]
    },
    {
      "cell_type": "code",
      "source": [
        "#create known paramets\n",
        "weight = 0.7\n",
        "bias =0.3\n",
        "#create\n",
        "s=0\n",
        "e=1\n",
        "step=0.02\n",
        "X=torch.arange(s,e,step).unsqueeze(dim=1)\n",
        "y=weight * X+bias\n",
        "# print(X,end=\" \")\n",
        "# print(y)\n",
        "print(len(X),len(y))"
      ],
      "metadata": {
        "colab": {
          "base_uri": "https://localhost:8080/"
        },
        "id": "GEcDGaAOD7Cz",
        "outputId": "ba084ad2-b05d-46cc-8762-ebae503d410d"
      },
      "execution_count": 128,
      "outputs": [
        {
          "output_type": "stream",
          "name": "stdout",
          "text": [
            "50 50\n"
          ]
        }
      ]
    },
    {
      "cell_type": "code",
      "source": [
        "a=int(0.8 * len(X))\n",
        "x_train,y_train,x_test,y_test=X[:a],y[:a],X[a:],y[a:]\n",
        "len(x_train),len(y_train),len(x_test),len(y_test)"
      ],
      "metadata": {
        "colab": {
          "base_uri": "https://localhost:8080/"
        },
        "id": "AqNx-nN4GadH",
        "outputId": "baec98f3-df79-4e79-a490-6663850163e2"
      },
      "execution_count": 129,
      "outputs": [
        {
          "output_type": "execute_result",
          "data": {
            "text/plain": [
              "(40, 40, 10, 10)"
            ]
          },
          "metadata": {},
          "execution_count": 129
        }
      ]
    },
    {
      "cell_type": "code",
      "source": [
        "def plot_predicitions(train_data=x_train,\n",
        "                      train_labels=y_train,\n",
        "                      test_data=x_test,\n",
        "                      test_labels=y_test,\n",
        "                      predictions=None):\n",
        "  plt.figure(figsize=(4,3))\n",
        "  plt.scatter(train_data,train_labels,c=\"b\",s=4,label=\"Training Data\")\n",
        "  plt.scatter(test_data,test_labels,c=\"r\",s=4,label=\"Testing Data\")\n",
        "  if predictions is not None:\n",
        "    plt.scatter(test_data, predictions, c=\"g\",s=4,label=\"Predicitons\")\n",
        "  plt.legend(prop={\"size\":8})"
      ],
      "metadata": {
        "id": "gp9i3M7dLt_x"
      },
      "execution_count": 130,
      "outputs": []
    },
    {
      "cell_type": "code",
      "source": [
        "plot_predicitions()"
      ],
      "metadata": {
        "colab": {
          "base_uri": "https://localhost:8080/",
          "height": 291
        },
        "id": "cva3aqG1Nh_E",
        "outputId": "b721834c-00cd-4ba5-9f60-207d3f9489ab"
      },
      "execution_count": 131,
      "outputs": [
        {
          "output_type": "display_data",
          "data": {
            "text/plain": [
              "<Figure size 400x300 with 1 Axes>"
            ],
            "image/png": "[encoded data removed]"
          },
          "metadata": {}
        }
      ]
    },
    {
      "cell_type": "markdown",
      "source": [
        " ## Build linear Regression Model"
      ],
      "metadata": {
        "id": "cfuzBM231zVI"
      }
    },
    {
      "cell_type": "code",
      "source": [
        "class Regression_model(nn.Module):\n",
        "  def __init__(self):\n",
        "    super().__init__()\n",
        "    self.weight=nn.Parameter(torch.randn(1,requires_grad=True,dtype=torch.float))\n",
        "    self.bias=nn.Parameter(torch.randn(1,requires_grad=True,dtype=torch.float))\n",
        "  def forward(self,x:torch.Tensor)->torch.Tensor:\n",
        "    return self.weight*x+self.bias"
      ],
      "metadata": {
        "id": "PgZ9ZW-hYOWI"
      },
      "execution_count": 132,
      "outputs": []
    },
    {
      "cell_type": "code",
      "source": [
        "torch.manual_seed(42)\n",
        "model_O=Regression_model()\n",
        "print(list(model_O.parameters()))\n",
        "print(model_O.state_dict())"
      ],
      "metadata": {
        "colab": {
          "base_uri": "https://localhost:8080/"
        },
        "id": "F7W6en2Ta-vA",
        "outputId": "079efeb8-2df2-42b1-afb3-46857c45d4e5"
      },
      "execution_count": 133,
      "outputs": [
        {
          "output_type": "stream",
          "name": "stdout",
          "text": [
            "[Parameter containing:\n",
            "tensor([0.3367], requires_grad=True), Parameter containing:\n",
            "tensor([0.1288], requires_grad=True)]\n",
            "OrderedDict([('weight', tensor([0.3367])), ('bias', tensor([0.1288]))])\n"
          ]
        }
      ]
    },
    {
      "cell_type": "code",
      "source": [
        "## making predicitions using torch.inference_mode()"
      ],
      "metadata": {
        "id": "9gVUHbTfbnLB"
      },
      "execution_count": 134,
      "outputs": []
    },
    {
      "cell_type": "code",
      "source": [
        "with torch.inference_mode():\n",
        "  y_pred=model_O(x_test)\n",
        "# with torch.no_grad():\n",
        "#   y_pred=model_O(x_test)\n",
        "y_pred"
      ],
      "metadata": {
        "colab": {
          "base_uri": "https://localhost:8080/"
        },
        "id": "QpwvhVDWdchV",
        "outputId": "054df3cf-0a47-4850-81bd-a3cef0b548a0"
      },
      "execution_count": 135,
      "outputs": [
        {
          "output_type": "execute_result",
          "data": {
            "text/plain": [
              "tensor([[0.3982],\n",
              "        [0.4049],\n",
              "        [0.4116],\n",
              "        [0.4184],\n",
              "        [0.4251],\n",
              "        [0.4318],\n",
              "        [0.4386],\n",
              "        [0.4453],\n",
              "        [0.4520],\n",
              "        [0.4588]])"
            ]
          },
          "metadata": {},
          "execution_count": 135
        }
      ]
    },
    {
      "cell_type": "code",
      "source": [
        "plot_predicitions(predictions=y_pred)  # we need to train our model the predictions values not close the y_test values"
      ],
      "metadata": {
        "colab": {
          "base_uri": "https://localhost:8080/",
          "height": 291
        },
        "id": "ilHbTv_Dd5VB",
        "outputId": "303511cc-525d-4825-c451-75ad37025ae6"
      },
      "execution_count": 136,
      "outputs": [
        {
          "output_type": "display_data",
          "data": {
            "text/plain": [
              "<Figure size 400x300 with 1 Axes>"
            ],
            "image/png": "[encoded data removed]"
          },
          "metadata": {}
        }
      ]
    },
    {
      "cell_type": "code",
      "source": [
        "#setup the loss function\n",
        "loss_fn=nn.L1Loss() # torch.mean(torch.abs(y_pred-y_test))\n",
        "#setup optimizer\n",
        "optimizer=torch.optim.SGD(params=model_O.parameters(),lr=0.01) #lr-->learning rate\n",
        "# if small lr results in small changes,a large lr results in large changes"
      ],
      "metadata": {
        "id": "diBHxAkYBf5D"
      },
      "execution_count": 137,
      "outputs": []
    },
    {
      "cell_type": "code",
      "source": [
        "# Building a traning loop"
      ],
      "metadata": {
        "id": "_0-bPMw1G0Y2"
      },
      "execution_count": 138,
      "outputs": []
    },
    {
      "cell_type": "code",
      "source": [
        "torch.manual_seed(42)\n",
        "epochs=200\n",
        "e_cnt,l_values,t_l_values=[],[],[]\n",
        "for epoch in range(epochs):\n",
        "  model_O.train()\n",
        "  y_pred=model_O(x_train)\n",
        "  loss=loss_fn(y_pred,y_train)\n",
        "  optimizer.zero_grad()\n",
        "  loss.backward()\n",
        "  optimizer.step()\n",
        "  model_O.eval()\n",
        "  with torch.inference_mode():\n",
        "    test_pred=model_O(x_test)\n",
        "    test_loss=loss_fn(test_pred,y_test)\n",
        "  if epoch % 10==0:\n",
        "    e_cnt.append(epoch)\n",
        "    l_values.append(loss)\n",
        "    t_l_values.append(test_loss)\n",
        "    print(f\"Epoch: {epoch} | Loss: {loss} | Test loss: {test_loss}\")\n",
        "    print(model_O.state_dict())"
      ],
      "metadata": {
        "id": "hCpb1p6stfFv",
        "colab": {
          "base_uri": "https://localhost:8080/"
        },
        "outputId": "bdfcd260-b79a-4b0e-e428-9216669bd5ac"
      },
      "execution_count": 139,
      "outputs": [
        {
          "output_type": "stream",
          "name": "stdout",
          "text": [
            "Epoch: 0 | Loss: 0.31288138031959534 | Test loss: 0.48106518387794495\n",
            "OrderedDict([('weight', tensor([0.3406])), ('bias', tensor([0.1388]))])\n",
            "Epoch: 10 | Loss: 0.1976713240146637 | Test loss: 0.3463551998138428\n",
            "OrderedDict([('weight', tensor([0.3796])), ('bias', tensor([0.2388]))])\n",
            "Epoch: 20 | Loss: 0.08908725529909134 | Test loss: 0.21729660034179688\n",
            "OrderedDict([('weight', tensor([0.4184])), ('bias', tensor([0.3333]))])\n",
            "Epoch: 30 | Loss: 0.053148526698350906 | Test loss: 0.14464017748832703\n",
            "OrderedDict([('weight', tensor([0.4512])), ('bias', tensor([0.3768]))])\n",
            "Epoch: 40 | Loss: 0.04543796554207802 | Test loss: 0.11360953003168106\n",
            "OrderedDict([('weight', tensor([0.4748])), ('bias', tensor([0.3868]))])\n",
            "Epoch: 50 | Loss: 0.04167863354086876 | Test loss: 0.09919948130846024\n",
            "OrderedDict([('weight', tensor([0.4938])), ('bias', tensor([0.3843]))])\n",
            "Epoch: 60 | Loss: 0.03818932920694351 | Test loss: 0.08886633068323135\n",
            "OrderedDict([('weight', tensor([0.5116])), ('bias', tensor([0.3788]))])\n",
            "Epoch: 70 | Loss: 0.03476089984178543 | Test loss: 0.0805937647819519\n",
            "OrderedDict([('weight', tensor([0.5288])), ('bias', tensor([0.3718]))])\n",
            "Epoch: 80 | Loss: 0.03132382780313492 | Test loss: 0.07232122868299484\n",
            "OrderedDict([('weight', tensor([0.5459])), ('bias', tensor([0.3648]))])\n",
            "Epoch: 90 | Loss: 0.02788739837706089 | Test loss: 0.06473556160926819\n",
            "OrderedDict([('weight', tensor([0.5629])), ('bias', tensor([0.3573]))])\n",
            "Epoch: 100 | Loss: 0.024458957836031914 | Test loss: 0.05646304413676262\n",
            "OrderedDict([('weight', tensor([0.5800])), ('bias', tensor([0.3503]))])\n",
            "Epoch: 110 | Loss: 0.021020207554101944 | Test loss: 0.04819049686193466\n",
            "OrderedDict([('weight', tensor([0.5972])), ('bias', tensor([0.3433]))])\n",
            "Epoch: 120 | Loss: 0.01758546568453312 | Test loss: 0.04060482233762741\n",
            "OrderedDict([('weight', tensor([0.6141])), ('bias', tensor([0.3358]))])\n",
            "Epoch: 130 | Loss: 0.014155393466353416 | Test loss: 0.03233227878808975\n",
            "OrderedDict([('weight', tensor([0.6313])), ('bias', tensor([0.3288]))])\n",
            "Epoch: 140 | Loss: 0.010716589167714119 | Test loss: 0.024059748277068138\n",
            "OrderedDict([('weight', tensor([0.6485])), ('bias', tensor([0.3218]))])\n",
            "Epoch: 150 | Loss: 0.0072835334576666355 | Test loss: 0.016474086791276932\n",
            "OrderedDict([('weight', tensor([0.6654])), ('bias', tensor([0.3143]))])\n",
            "Epoch: 160 | Loss: 0.0038517764769494534 | Test loss: 0.008201557211577892\n",
            "OrderedDict([('weight', tensor([0.6826])), ('bias', tensor([0.3073]))])\n",
            "Epoch: 170 | Loss: 0.008932482451200485 | Test loss: 0.005023092031478882\n",
            "OrderedDict([('weight', tensor([0.6951])), ('bias', tensor([0.2993]))])\n",
            "Epoch: 180 | Loss: 0.008932482451200485 | Test loss: 0.005023092031478882\n",
            "OrderedDict([('weight', tensor([0.6951])), ('bias', tensor([0.2993]))])\n",
            "Epoch: 190 | Loss: 0.008932482451200485 | Test loss: 0.005023092031478882\n",
            "OrderedDict([('weight', tensor([0.6951])), ('bias', tensor([0.2993]))])\n"
          ]
        }
      ]
    },
    {
      "cell_type": "code",
      "source": [
        "with torch.inference_mode():\n",
        "  y_preds_new=model_O(x_test)"
      ],
      "metadata": {
        "id": "n-RimxB3wa-j"
      },
      "execution_count": 140,
      "outputs": []
    },
    {
      "cell_type": "code",
      "source": [
        "plot_predicitions(predictions=y_preds_new)"
      ],
      "metadata": {
        "colab": {
          "base_uri": "https://localhost:8080/",
          "height": 291
        },
        "id": "DGiUEeRkwC6y",
        "outputId": "58ea5452-a4c8-42c0-8e4e-be4951426ac7"
      },
      "execution_count": 141,
      "outputs": [
        {
          "output_type": "display_data",
          "data": {
            "text/plain": [
              "<Figure size 400x300 with 1 Axes>"
            ],
            "image/png": "[encoded data removed]"
          },
          "metadata": {}
        }
      ]
    },
    {
      "cell_type": "code",
      "source": [
        "from pathlib import Path\n",
        "model_path=Path(\"Models\")\n",
        "model_path.mkdir(parents=True,exist_ok=True)\n",
        "model_name=\"Pytorch_workflow\"\n",
        "model_save_path=model_path/model_name\n",
        "print(f\"Saving model to:{model_save_path}\")\n",
        "torch.save(obj=model_O.state_dict(),f=model_save_path)"
      ],
      "metadata": {
        "colab": {
          "base_uri": "https://localhost:8080/"
        },
        "id": "bYgbg66ywH5o",
        "outputId": "581b48ae-cd68-41be-f784-5fd0a895b04d"
      },
      "execution_count": 142,
      "outputs": [
        {
          "output_type": "stream",
          "name": "stdout",
          "text": [
            "Saving model to:Models/Pytorch_workflow\n"
          ]
        }
      ]
    },
    {
      "cell_type": "code",
      "source": [
        "model_O.state_dict()"
      ],
      "metadata": {
        "colab": {
          "base_uri": "https://localhost:8080/"
        },
        "id": "V4Wrt00d7LDF",
        "outputId": "49aa6fff-cc3e-47e0-d63b-e2ba9f8c7082"
      },
      "execution_count": 143,
      "outputs": [
        {
          "output_type": "execute_result",
          "data": {
            "text/plain": [
              "OrderedDict([('weight', tensor([0.6990])), ('bias', tensor([0.3093]))])"
            ]
          },
          "metadata": {},
          "execution_count": 143
        }
      ]
    },
    {
      "cell_type": "code",
      "source": [
        "loaded_model_O=Regression_model()\n",
        "loaded_model_O.load_state_dict(torch.load(f=model_save_path))"
      ],
      "metadata": {
        "colab": {
          "base_uri": "https://localhost:8080/"
        },
        "id": "UdeE2SrE7Qwe",
        "outputId": "83d16a58-887f-4f1f-f923-ecc6915689db"
      },
      "execution_count": 144,
      "outputs": [
        {
          "output_type": "execute_result",
          "data": {
            "text/plain": [
              "<All keys matched successfully>"
            ]
          },
          "metadata": {},
          "execution_count": 144
        }
      ]
    },
    {
      "cell_type": "code",
      "source": [
        "loaded_model_O.eval()\n",
        "with torch.inference_mode():\n",
        "  loaded_model_preds=loaded_model_O(x_test)\n",
        "loaded_model_preds"
      ],
      "metadata": {
        "colab": {
          "base_uri": "https://localhost:8080/"
        },
        "id": "Gfambulu76CA",
        "outputId": "8ccf5bad-9cbe-4c5c-f22c-3cb5763f4b4a"
      },
      "execution_count": 145,
      "outputs": [
        {
          "output_type": "execute_result",
          "data": {
            "text/plain": [
              "tensor([[0.8685],\n",
              "        [0.8825],\n",
              "        [0.8965],\n",
              "        [0.9105],\n",
              "        [0.9245],\n",
              "        [0.9384],\n",
              "        [0.9524],\n",
              "        [0.9664],\n",
              "        [0.9804],\n",
              "        [0.9944]])"
            ]
          },
          "metadata": {},
          "execution_count": 145
        }
      ]
    },
    {
      "cell_type": "code",
      "source": [
        "model_O.eval()\n",
        "with torch.inference_mode():\n",
        "  y_preds=model_O(x_test)\n",
        "y_preds"
      ],
      "metadata": {
        "colab": {
          "base_uri": "https://localhost:8080/"
        },
        "id": "eYolwEK09sh8",
        "outputId": "f668b89b-c2b5-45e4-ffd7-d2e340b255be"
      },
      "execution_count": 146,
      "outputs": [
        {
          "output_type": "execute_result",
          "data": {
            "text/plain": [
              "tensor([[0.8685],\n",
              "        [0.8825],\n",
              "        [0.8965],\n",
              "        [0.9105],\n",
              "        [0.9245],\n",
              "        [0.9384],\n",
              "        [0.9524],\n",
              "        [0.9664],\n",
              "        [0.9804],\n",
              "        [0.9944]])"
            ]
          },
          "metadata": {},
          "execution_count": 146
        }
      ]
    },
    {
      "cell_type": "code",
      "source": [
        "y_preds==loaded_model_preds"
      ],
      "metadata": {
        "colab": {
          "base_uri": "https://localhost:8080/"
        },
        "id": "FTjKqsiv-cOm",
        "outputId": "a4b48063-d346-4e60-ca5e-4bf48f636f0e"
      },
      "execution_count": 147,
      "outputs": [
        {
          "output_type": "execute_result",
          "data": {
            "text/plain": [
              "tensor([[True],\n",
              "        [True],\n",
              "        [True],\n",
              "        [True],\n",
              "        [True],\n",
              "        [True],\n",
              "        [True],\n",
              "        [True],\n",
              "        [True],\n",
              "        [True]])"
            ]
          },
          "metadata": {},
          "execution_count": 147
        }
      ]
    },
    {
      "cell_type": "code",
      "source": [],
      "metadata": {
        "id": "O4bAidHM-1V7"
      },
      "execution_count": 147,
      "outputs": []
    }
  ]
}